{
 "cells": [
  {
   "cell_type": "code",
   "execution_count": 1,
   "metadata": {},
   "outputs": [
    {
     "name": "stderr",
     "output_type": "stream",
     "text": [
      "c:\\Users\\claud\\Desktop\\IC_RAG\\.venv\\Lib\\site-packages\\sentence_transformers\\cross_encoder\\CrossEncoder.py:13: TqdmWarning: IProgress not found. Please update jupyter and ipywidgets. See https://ipywidgets.readthedocs.io/en/stable/user_install.html\n",
      "  from tqdm.autonotebook import tqdm, trange\n"
     ]
    },
    {
     "name": "stdout",
     "output_type": "stream",
     "text": [
      "Loading the embeddings model\n",
      "Embeddings model loaded\n"
     ]
    }
   ],
   "source": [
    "import os\n",
    "\n",
    "os.environ[\"TRANSFORMERS_VERBOSITY\"] = \"error\"\n",
    "from LLM_IC import LLM_IC_OPENAI\n",
    "\n",
    "\n",
    "# Remove the warnings\n",
    "import warnings\n",
    "\n",
    "warnings.filterwarnings(\"ignore\")\n",
    "\n",
    "\n",
    "# Create the LLM_IC object\n",
    "llm = LLM_IC_OPENAI(embeddings_path=\"full_df_embeddings.json\")\n",
    "\n",
    "\n"
   ]
  },
  {
   "cell_type": "code",
   "execution_count": 4,
   "metadata": {},
   "outputs": [
    {
     "name": "stdout",
     "output_type": "stream",
     "text": [
      "Para um projeto com uma base de dados pequena, uma metodologia rigorosa que você pode adotar é a validação cruzada estratificada, combinada com a busca de hyperparâmetros por meio de validação cruzada. Aqui estão os passos que você deve seguir:\n",
      "\n",
      "1. **Dividir os Dados**: Primeiro, divida seu conjunto de dados em um conjunto de treinamento e um conjunto de teste. Uma proporção comum é 80% para treinamento e 20% para teste.\n",
      "\n",
      "2. **Validação Cruzada Estratificada**: Dentro do conjunto de treinamento, utilize a validação cruzada estratificada. Isso significa que você vai dividir o conjunto de treinamento em K partes (ou \"folds\") de maneira que cada parte tenha a mesma proporção de classes que o conjunto original. Um valor típico para K pode ser 5 ou 10. Isso ajuda a garantir que cada modelo treinado em um subconjunto dos dados seja representativo da totalidade do conjunto de dados.\n",
      "\n",
      "3. **Tuning de Hiperparâmetros**: Enquanto você realiza a validação cruzada, você pode usar busca em grade (`GridSearchCV`) ou busca aleatória (`RandomizedSearchCV`) para otimizar hiperparâmetros. Isso envolve testar várias combinações de hiperparâmetros durante o processo de validação cruzada.\n",
      "\n",
      "4. **Avaliação do Modelo**: Após encontrar os melhores hiperparâmetros, avalie seu modelo final usando o conjunto de teste. Isso fornece uma estimativa do erro de generalização do modelo.\n",
      "\n",
      "5. **Estimar o Intervalo de Confiança**: Se você deseja medir a precisão de sua estimativa, você pode calcular um intervalo de confiança para o erro de generalização, como discutido em um dos contextos do livro.\n",
      "\n",
      "Esses passos asseguram que você utilize uma metodologia rigorosa, minimizando o risco de overfitting, especialmente considerando que o conjunto de dados é pequeno.\n",
      "\n",
      "Para mais detalhes sobre validação cruzada e tuning de hiperparâmetros, confira o capítulo 2 (\"End-to-End Machine Learning Project\") e capítulo 10 (\"Introduction to Artificial Neural Networks with Keras\") do livro \"Hands-on Machine Learning with Scikit-Learn, Keras, and TensorFlow\" por Aurélien Géron.\n"
     ]
    }
   ],
   "source": [
    "# Get the input\n",
    "query = input(\"LLM_IC: \")\n",
    "\n",
    "# Get the response\n",
    "response = llm.generate_text_cite(query)\n",
    "\n",
    "# Print the response\n",
    "print(response)"
   ]
  }
 ],
 "metadata": {
  "kernelspec": {
   "display_name": ".venv",
   "language": "python",
   "name": "python3"
  },
  "language_info": {
   "codemirror_mode": {
    "name": "ipython",
    "version": 3
   },
   "file_extension": ".py",
   "mimetype": "text/x-python",
   "name": "python",
   "nbconvert_exporter": "python",
   "pygments_lexer": "ipython3",
   "version": "3.12.7"
  }
 },
 "nbformat": 4,
 "nbformat_minor": 2
}
