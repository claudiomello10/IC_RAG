{
 "cells": [
  {
   "cell_type": "code",
   "execution_count": 27,
   "metadata": {},
   "outputs": [
    {
     "ename": "AttributeError",
     "evalue": "'function' object has no attribute 'get_bookmarks'",
     "output_type": "error",
     "traceback": [
      "\u001b[1;31m---------------------------------------------------------------------------\u001b[0m",
      "\u001b[1;31mAttributeError\u001b[0m                            Traceback (most recent call last)",
      "Cell \u001b[1;32mIn[27], line 7\u001b[0m\n\u001b[0;32m      3\u001b[0m PATH \u001b[38;5;241m=\u001b[39m \u001b[38;5;124m\"\u001b[39m\u001b[38;5;124mLivros/Futuros/MachineLearning/2024_Python_Deep_Learning_w_pacc21.pdf\u001b[39m\u001b[38;5;124m\"\u001b[39m\n\u001b[0;32m      5\u001b[0m doc \u001b[38;5;241m=\u001b[39m readfile(PATH)\n\u001b[1;32m----> 7\u001b[0m doc\u001b[38;5;241m.\u001b[39mbookmarks \u001b[38;5;241m=\u001b[39m \u001b[43mmetadata\u001b[49m\u001b[38;5;241;43m.\u001b[39;49m\u001b[43mget_bookmarks\u001b[49m(doc)\n",
      "\u001b[1;31mAttributeError\u001b[0m: 'function' object has no attribute 'get_bookmarks'"
     ]
    }
   ],
   "source": [
    "from pdfsyntax import readfile, metadata\n",
    "\n",
    "PATH = \"Livros/Futuros/MachineLearning/2024_Python_Deep_Learning_w_pacc21.pdf\"\n",
    "\n",
    "doc = readfile(PATH)\n",
    "\n",
    "# "
   ]
  },
  {
   "cell_type": "code",
   "execution_count": 45,
   "metadata": {},
   "outputs": [
    {
     "data": {
      "text/plain": [
       "1"
      ]
     },
     "execution_count": 45,
     "metadata": {},
     "output_type": "execute_result"
    }
   ],
   "source": [
    "\n",
    "import fitz  # PyMuPDF\n",
    "\n",
    "# Step 2: Define the path to the PDF file\n",
    "PATH = \"Livros/Futuros/MachineLearning/2024_Python_Deep_Learning_w_pacc21.pdf\"\n",
    "\n",
    "# Step 3: Open the PDF file\n",
    "doc = fitz.open(PATH)\n",
    "\n",
    "# Step 4: Extract the bookmarks (table of contents)\n",
    "toc = doc.get_toc()\n",
    "\n",
    "# Step 5: Print the bookmarks\n",
    "for item in toc:\n",
    "    print(item)"
   ]
  },
  {
   "cell_type": "code",
   "execution_count": 44,
   "metadata": {},
   "outputs": [
    {
     "name": "stdout",
     "output_type": "stream",
     "text": [
      "[1, 'Cover', 1]\n",
      "[1, 'Title Page', 2]\n",
      "[1, 'Copyright and Credit', 3]\n",
      "[1, 'Contributors\\r', 4]\n",
      "[1, 'Table of Contents', 6]\n",
      "[1, 'Preface', 12]\n",
      "[1, 'Part 1: Introduction to Neural Networks', 18]\n",
      "[1, 'Chapter 1: Machine Learning – an Introduction', 20]\n",
      "[1, 'Chapter 2: Neural Networks', 44]\n",
      "[1, 'Chapter 3: Deep Learning Fundamentals', 82]\n",
      "[1, 'Part 2: Deep Neural Networks for Computer Vision', 108]\n",
      "[1, 'Chapter 4: Computer Vision with Convolutional Networks', 110]\n",
      "[1, 'Chapter 5: Advanced Computer Vision Applications', 152]\n",
      "[1, 'Part 3: Natural Language Processing and Transformers', 188]\n",
      "[1, 'Chapter 6: Natural Language Processing and Recurrent Neural Networks', 190]\n",
      "[1, 'Chapter 7: The Attention Mechanism and Transformers', 228]\n",
      "[1, 'Chapter 8: Exploring Large Language Models in Depth', 262]\n",
      "[1, 'Chapter 9: Advanced Applications of Large Language Models', 294]\n",
      "[1, 'Part 4: Developing and Deploying Deep Neural Networks', 320]\n",
      "[1, 'Chapter 10: Machine Learning Operations (MLOps)', 322]\n",
      "[1, 'Index', 344]\n",
      "[1, 'Other Books You May Enjoy', 359]\n"
     ]
    }
   ],
   "source": [
    "for i in range(len(toc)):\n",
    "    if(toc[i][0] == 1):\n",
    "        print(toc[i])\n",
    "    \n"
   ]
  }
 ],
 "metadata": {
  "kernelspec": {
   "display_name": ".venv",
   "language": "python",
   "name": "python3"
  },
  "language_info": {
   "codemirror_mode": {
    "name": "ipython",
    "version": 3
   },
   "file_extension": ".py",
   "mimetype": "text/x-python",
   "name": "python",
   "nbconvert_exporter": "python",
   "pygments_lexer": "ipython3",
   "version": "3.12.7"
  }
 },
 "nbformat": 4,
 "nbformat_minor": 2
}
